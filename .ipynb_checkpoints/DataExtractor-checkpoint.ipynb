{
 "cells": [
  {
   "cell_type": "markdown",
   "metadata": {},
   "source": [
    "## Libraries"
   ]
  },
  {
   "cell_type": "code",
   "execution_count": 1,
   "metadata": {},
   "outputs": [],
   "source": [
    "import pickle as pk\n",
    "import pandas as pd\n",
    "from datetime import datetime"
   ]
  },
  {
   "cell_type": "markdown",
   "metadata": {},
   "source": [
    "## Reading the invoices_new.pkl file"
   ]
  },
  {
   "cell_type": "code",
   "execution_count": 2,
   "metadata": {},
   "outputs": [],
   "source": [
    "with open('invoices_new.pkl', 'rb') as file:\n",
    "    invoices = pk.load(file)"
   ]
  },
  {
   "cell_type": "code",
   "execution_count": 3,
   "metadata": {},
   "outputs": [
    {
     "name": "stdout",
     "output_type": "stream",
     "text": [
      "{'id': '365371O', 'created_on': '2019-05-27', 'items': [{'item': {'id': 142446, 'name': 'ii_142446', 'unit_price': 182, 'type': 1}, 'quantity': 6}, {'item': {'id': 154019, 'name': 'ii_154019', 'unit_price': 176, 'type': 1}, 'quantity': 1}]}\n"
     ]
    }
   ],
   "source": [
    "print(invoices[0])"
   ]
  },
  {
   "cell_type": "markdown",
   "metadata": {},
   "source": [
    "## Reading the expired_invoices.txt file"
   ]
  },
  {
   "cell_type": "markdown",
   "metadata": {},
   "source": [
    "#### 1. checking the content of the txt file"
   ]
  },
  {
   "cell_type": "code",
   "execution_count": 4,
   "metadata": {},
   "outputs": [
    {
     "name": "stdout",
     "output_type": "stream",
     "text": [
      "305869, 377307, 391273, 385290, 331902, 397723, 343695, 340601, 347510, 325156, 379387, 348894, 322229, 326649, 377960, 325063, 369378, 319405, 383681, 367288, 356552, 394428, 381476, 381457, 349879, 343254, 366751, 330931, 363263, 326452, 379687, 356532, 383235, 313012, 368913, 352442, 315960, 351096, 331193, 392657, 352391, 389528, 338547, 379961, 337140, 323231, 371205, 378746, 307175, 340299\n"
     ]
    }
   ],
   "source": [
    "with open('expired_invoices.txt', 'r') as file:\n",
    "    content = file.read()\n",
    "    \n",
    "print(content)"
   ]
  },
  {
   "cell_type": "markdown",
   "metadata": {},
   "source": [
    "#### as we can see the data is comma separated (also checked manually)"
   ]
  },
  {
   "cell_type": "code",
   "execution_count": 5,
   "metadata": {},
   "outputs": [],
   "source": [
    "with open('expired_invoices.txt', 'r') as file:\n",
    "    content = file.read()\n",
    "    expired_inv = [int(id_str.strip()) for id_str in content.split(',')]"
   ]
  },
  {
   "cell_type": "code",
   "execution_count": 6,
   "metadata": {
    "scrolled": true
   },
   "outputs": [
    {
     "name": "stdout",
     "output_type": "stream",
     "text": [
      "[305869, 377307, 391273, 385290, 331902, 397723, 343695, 340601, 347510, 325156, 379387, 348894, 322229, 326649, 377960, 325063, 369378, 319405, 383681, 367288, 356552, 394428, 381476, 381457, 349879, 343254, 366751, 330931, 363263, 326452, 379687, 356532, 383235, 313012, 368913, 352442, 315960, 351096, 331193, 392657, 352391, 389528, 338547, 379961, 337140, 323231, 371205, 378746, 307175, 340299]\n"
     ]
    }
   ],
   "source": [
    "print(expired_inv)"
   ]
  },
  {
   "cell_type": "code",
   "execution_count": null,
   "metadata": {},
   "outputs": [],
   "source": []
  },
  {
   "cell_type": "markdown",
   "metadata": {},
   "source": [
    "## DataExtractor class creation"
   ]
  },
  {
   "cell_type": "code",
   "execution_count": 7,
   "metadata": {},
   "outputs": [
    {
     "name": "stdout",
     "output_type": "stream",
     "text": [
      "Column Data Types:\n",
      "id            object\n",
      "created_on    object\n",
      "items         object\n",
      "dtype: object\n"
     ]
    }
   ],
   "source": [
    "# checking dtypes\n",
    "df = pd.DataFrame(invoices)\n",
    "\n",
    "print(\"Column Data Types:\")\n",
    "print(df.dtypes)"
   ]
  },
  {
   "cell_type": "code",
   "execution_count": null,
   "metadata": {},
   "outputs": [],
   "source": []
  },
  {
   "cell_type": "code",
   "execution_count": 8,
   "metadata": {
    "scrolled": true
   },
   "outputs": [
    {
     "name": "stdout",
     "output_type": "stream",
     "text": [
      "Skipping processing invoice 365371O: invalid literal for int() with base 10: '365371O'\n",
      "Skipping processing invoice 343695: unsupported operand type(s) for +: 'int' and 'str'\n",
      "Skipping processing invoice 374089O: invalid literal for int() with base 10: '374089O'\n",
      "Invalid item data: {'item': {'id': 195938, 'name': 'ii_195938', 'unit_price': 129, 'type': 'O'}, 'quantity': 2}\n",
      "Invalid item data: {'item': {'id': 137032, 'name': 'ii_137032', 'unit_price': 116, 'type': 'O'}, 'quantity': 5}\n",
      "Skipping processing invoice 397723O: invalid literal for int() with base 10: '397723O'\n",
      "Skipping processing invoice 325156O: invalid literal for int() with base 10: '325156O'\n",
      "Skipping processing invoice 326649O: invalid literal for int() with base 10: '326649O'\n",
      "Skipping processing invoice 379961: 'items'\n",
      "Skipping processing invoice 385290O: invalid literal for int() with base 10: '385290O'\n",
      "Skipping processing invoice 381476O: invalid literal for int() with base 10: '381476O'\n",
      "Skipping processing invoice 350506: 'items'\n",
      "Invalid item data: {'item': {'id': 121582, 'name': 'ii_121582', 'unit_price': 181, 'type': 'O'}, 'quantity': 6}\n",
      "Skipping processing invoice 335226O: invalid literal for int() with base 10: '335226O'\n",
      "Skipping processing invoice 371786O: invalid literal for int() with base 10: '371786O'\n",
      "Skipping processing invoice 331902O: invalid literal for int() with base 10: '331902O'\n",
      "Skipping processing invoice 308237O: invalid literal for int() with base 10: '308237O'\n",
      "Skipping processing invoice 340299O: invalid literal for int() with base 10: '340299O'\n",
      "Skipping processing invoice 366751: Invalid date\n",
      "Skipping processing invoice 313012: unsupported operand type(s) for +: 'int' and 'str'\n",
      "Skipping processing invoice 311671: unsupported operand type(s) for +: 'int' and 'str'\n",
      "Skipping processing invoice 375592: Invalid date\n",
      "Skipping processing invoice 305869: unsupported operand type(s) for +: 'int' and 'str'\n",
      "Skipping processing invoice 373375O: invalid literal for int() with base 10: '373375O'\n",
      "DataFrame successfully saved to final_invoices.csv\n",
      "Skipping processing invoice 365371O: invalid literal for int() with base 10: '365371O'\n",
      "Skipping processing invoice 343695: unsupported operand type(s) for +: 'int' and 'str'\n",
      "Skipping processing invoice 374089O: invalid literal for int() with base 10: '374089O'\n",
      "Invalid item data: {'item': {'id': 195938, 'name': 'ii_195938', 'unit_price': 129, 'type': 'O'}, 'quantity': 2}\n",
      "Invalid item data: {'item': {'id': 137032, 'name': 'ii_137032', 'unit_price': 116, 'type': 'O'}, 'quantity': 5}\n",
      "Skipping processing invoice 397723O: invalid literal for int() with base 10: '397723O'\n",
      "Skipping processing invoice 325156O: invalid literal for int() with base 10: '325156O'\n",
      "Skipping processing invoice 326649O: invalid literal for int() with base 10: '326649O'\n",
      "Skipping processing invoice 379961: 'items'\n",
      "Skipping processing invoice 385290O: invalid literal for int() with base 10: '385290O'\n",
      "Skipping processing invoice 381476O: invalid literal for int() with base 10: '381476O'\n",
      "Skipping processing invoice 350506: 'items'\n",
      "Invalid item data: {'item': {'id': 121582, 'name': 'ii_121582', 'unit_price': 181, 'type': 'O'}, 'quantity': 6}\n",
      "Skipping processing invoice 335226O: invalid literal for int() with base 10: '335226O'\n",
      "Skipping processing invoice 371786O: invalid literal for int() with base 10: '371786O'\n",
      "Skipping processing invoice 331902O: invalid literal for int() with base 10: '331902O'\n",
      "Skipping processing invoice 308237O: invalid literal for int() with base 10: '308237O'\n",
      "Skipping processing invoice 340299O: invalid literal for int() with base 10: '340299O'\n",
      "Skipping processing invoice 366751: Invalid date\n",
      "Skipping processing invoice 313012: unsupported operand type(s) for +: 'int' and 'str'\n",
      "Skipping processing invoice 311671: unsupported operand type(s) for +: 'int' and 'str'\n",
      "Skipping processing invoice 375592: Invalid date\n",
      "Skipping processing invoice 305869: unsupported operand type(s) for +: 'int' and 'str'\n",
      "Skipping processing invoice 373375O: invalid literal for int() with base 10: '373375O'\n",
      "invoice_id                        int32\n",
      "created_on               datetime64[ns]\n",
      "invoiceitem_id                    int32\n",
      "invoiceitem_name                 object\n",
      "type                             object\n",
      "unit_price                        int32\n",
      "total_price                       int32\n",
      "percentage_in_invoice           float64\n",
      "is_expired                         bool\n",
      "dtype: object\n"
     ]
    }
   ],
   "source": [
    "import pandas as pd\n",
    "import pickle as pk\n",
    "from datetime import datetime\n",
    "\n",
    "class DataExtractor:\n",
    "    def __init__(self, invoice_file, expired_file):\n",
    "        self.invoice_file = invoice_file\n",
    "        self.expired_file = expired_file\n",
    "        self.data = None\n",
    "        self.expired_invoices = None\n",
    "    \n",
    "    def load_data(self):\n",
    "        try:\n",
    "            with open(self.invoice_file, 'rb') as file:\n",
    "                self.data = pk.load(file)\n",
    "        except Exception as e:\n",
    "            print(f\"Error loading invoice file: {e}\")\n",
    "        \n",
    "        try:\n",
    "            with open(self.expired_file, 'r') as file:\n",
    "                content = file.read()\n",
    "                self.expired_invoices = [int(id_str.strip()) for id_str in content.split(',')]\n",
    "        except Exception as e:\n",
    "            print(f\"Error loading expired invoices file: {e}\")\n",
    "    \n",
    "    def flatten_items(self, invoice):\n",
    "        try:\n",
    "            invoice_id = int(invoice['id'])\n",
    "            created_on = pd.to_datetime(invoice['created_on'], errors='coerce')\n",
    "            if pd.isna(created_on):\n",
    "                raise ValueError(\"Invalid date\")\n",
    "            invoice_total = sum(self.get_valid_price(item) for item in invoice['items'])\n",
    "            \n",
    "            flattened_data = []\n",
    "            for item in invoice['items']:\n",
    "                if not self.is_valid_item(item):\n",
    "                    continue\n",
    "                invoiceitem_id = item['item']['id']\n",
    "                invoiceitem_name = item['item']['name']\n",
    "                unit_price = item['item']['unit_price']\n",
    "                item_type = self.map_type(item['item']['type'])\n",
    "                quantity = item['quantity']\n",
    "                total_price = unit_price * quantity\n",
    "                percentage_in_invoice = total_price / invoice_total if invoice_total > 0 else 0\n",
    "                is_expired = invoice_id in self.expired_invoices\n",
    "                \n",
    "                flattened_data.append({\n",
    "                    'invoice_id': invoice_id,\n",
    "                    'created_on': created_on,\n",
    "                    'invoiceitem_id': invoiceitem_id,\n",
    "                    'invoiceitem_name': invoiceitem_name,\n",
    "                    'type': item_type,\n",
    "                    'unit_price': unit_price,\n",
    "                    'total_price': total_price,\n",
    "                    'percentage_in_invoice': percentage_in_invoice,\n",
    "                    'is_expired': is_expired\n",
    "                })\n",
    "            return flattened_data\n",
    "        except Exception as e:\n",
    "            print(f\"Skipping processing invoice {invoice.get('id', 'unknown')}: {e}\")\n",
    "            return []\n",
    "\n",
    "    @staticmethod\n",
    "    def map_type(type_code):\n",
    "        type_conversion = {0: 'Material', 1: 'Equipment', 2: 'Service', 3: 'Other'}\n",
    "        return type_conversion.get(type_code, 'Unknown')\n",
    "    \n",
    "    @staticmethod\n",
    "    def is_valid_item(item):\n",
    "        try:\n",
    "            _ = int(item['item']['id'])\n",
    "            _ = str(item['item']['name'])\n",
    "            _ = float(item['item']['unit_price'])\n",
    "            _ = int(item['quantity'])\n",
    "            _ = int(item['item']['type'])\n",
    "            return True\n",
    "        except ValueError:\n",
    "            print(f\"Invalid item data: {item}\")\n",
    "            return False\n",
    "\n",
    "    @staticmethod\n",
    "    def get_valid_price(item):\n",
    "        try:\n",
    "            return item['item']['unit_price'] * item['quantity']\n",
    "        except:\n",
    "            return 0\n",
    "    \n",
    "    def transform_data(self):\n",
    "        all_flattened_data = []\n",
    "        for invoice in self.data:\n",
    "            flattened_data = self.flatten_items(invoice)\n",
    "            all_flattened_data.extend(flattened_data)\n",
    "        \n",
    "        # Convert to DataFrame\n",
    "        df = pd.DataFrame(all_flattened_data)\n",
    "        \n",
    "        # Ensure correct column types\n",
    "        df['invoice_id'] = df['invoice_id'].astype(int)\n",
    "        df['created_on'] = pd.to_datetime(df['created_on'])\n",
    "        df['invoiceitem_id'] = df['invoiceitem_id'].astype(int)\n",
    "        df['invoiceitem_name'] = df['invoiceitem_name'].astype(str)\n",
    "        df['type'] = df['type'].astype(str)\n",
    "        df['unit_price'] = df['unit_price'].astype(int)\n",
    "        df['total_price'] = df['total_price'].astype(int)\n",
    "        df['percentage_in_invoice'] = df['percentage_in_invoice'].astype(float)\n",
    "        df['is_expired'] = df['is_expired'].astype(bool)\n",
    "        \n",
    "        # Sort the DataFrame\n",
    "        df = df.sort_values(by=['invoice_id', 'invoiceitem_id']).reset_index(drop=True)\n",
    "        \n",
    "        return df\n",
    "    \n",
    "    def save_to_csv(self, df, filename):\n",
    "        try:\n",
    "            df.to_csv(filename, index=False)\n",
    "            print(f\"DataFrame successfully saved to {filename}\")\n",
    "        except Exception as e:\n",
    "            print(f\"Error saving DataFrame to CSV: {e}\")\n",
    "    \n",
    "    def check_dtypes(self):\n",
    "        df = self.transform_data()\n",
    "        print(df.dtypes)\n",
    "\n",
    "# Usage\n",
    "extractor = DataExtractor('invoices_new.pkl', 'expired_invoices.txt')\n",
    "extractor.load_data()\n",
    "final_df = extractor.transform_data()\n",
    "extractor.save_to_csv(final_df, 'final_invoices.csv')\n",
    "extractor.check_dtypes()"
   ]
  },
  {
   "cell_type": "code",
   "execution_count": null,
   "metadata": {},
   "outputs": [],
   "source": []
  },
  {
   "cell_type": "code",
   "execution_count": 10,
   "metadata": {},
   "outputs": [
    {
     "name": "stdout",
     "output_type": "stream",
     "text": [
      "Note: you may need to restart the kernel to use updated packages.\n"
     ]
    },
    {
     "name": "stderr",
     "output_type": "stream",
     "text": [
      "WARNING: Could not generate requirement for distribution -ensorflow-intel 2.11.0 (c:\\users\\user\\anaconda3\\lib\\site-packages): Parse error at \"'-ensorfl'\": Expected W:(abcd...)\n"
     ]
    }
   ],
   "source": [
    "pip freeze > requirements.txt"
   ]
  },
  {
   "cell_type": "code",
   "execution_count": null,
   "metadata": {},
   "outputs": [],
   "source": []
  }
 ],
 "metadata": {
  "kernelspec": {
   "display_name": "Python 3",
   "language": "python",
   "name": "python3"
  },
  "language_info": {
   "codemirror_mode": {
    "name": "ipython",
    "version": 3
   },
   "file_extension": ".py",
   "mimetype": "text/x-python",
   "name": "python",
   "nbconvert_exporter": "python",
   "pygments_lexer": "ipython3",
   "version": "3.8.5"
  }
 },
 "nbformat": 4,
 "nbformat_minor": 4
}
